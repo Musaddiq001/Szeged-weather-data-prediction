{
  "nbformat": 4,
  "nbformat_minor": 0,
  "metadata": {
    "colab": {
      "name": "Temperature Prediction .ipynb",
      "provenance": []
    },
    "kernelspec": {
      "display_name": "Python 3",
      "name": "python3"
    }
  },
  "cells": [
    {
      "cell_type": "code",
      "metadata": {
        "id": "_f2EaKV40bcy"
      },
      "source": [
        "import warnings\r\n",
        "warnings.filterwarnings('ignore')\r\n",
        "\r\n",
        "import os\r\n",
        "import numpy as np\r\n",
        "import pandas as pd\r\n",
        "\r\n",
        "from matplotlib import pyplot as plt\r\n",
        "%matplotlib inline\r\n",
        "\r\n",
        "import sklearn\r\n",
        "from sklearn.model_selection import train_test_split\r\n",
        "from sklearn.metrics import accuracy_score\r\n",
        "\r\n",
        "from sklearn.linear_model import LinearRegression\r\n",
        "\r\n",
        "import tensorflow as tf\r\n",
        "from tensorflow import keras\r\n",
        "\r\n",
        "from sklearn import preprocessing"
      ],
      "execution_count": 1,
      "outputs": []
    },
    {
      "cell_type": "code",
      "metadata": {
        "id": "azVv0-a44KX6"
      },
      "source": [
        "os.chdir(\"/content/drive/My Drive/\")\r\n",
        "weather_df = pd.read_csv('weatherHistory.csv')"
      ],
      "execution_count": 2,
      "outputs": []
    },
    {
      "cell_type": "code",
      "metadata": {
        "colab": {
          "base_uri": "https://localhost:8080/"
        },
        "id": "85-ftsVP9rD-",
        "outputId": "351ba1e6-d4ab-466d-87e7-006af3a009b4"
      },
      "source": [
        "from google.colab import drive\n",
        "drive.mount('/content/drive')"
      ],
      "execution_count": 3,
      "outputs": [
        {
          "output_type": "stream",
          "text": [
            "Drive already mounted at /content/drive; to attempt to forcibly remount, call drive.mount(\"/content/drive\", force_remount=True).\n"
          ],
          "name": "stdout"
        }
      ]
    },
    {
      "cell_type": "code",
      "metadata": {
        "colab": {
          "base_uri": "https://localhost:8080/",
          "height": 295
        },
        "id": "dfkyvQwz_EwP",
        "outputId": "d8100e82-7827-4ccb-fdb0-3f693bc0346d"
      },
      "source": [
        "weather_df.head()"
      ],
      "execution_count": 5,
      "outputs": [
        {
          "output_type": "execute_result",
          "data": {
            "text/html": [
              "<div>\n",
              "<style scoped>\n",
              "    .dataframe tbody tr th:only-of-type {\n",
              "        vertical-align: middle;\n",
              "    }\n",
              "\n",
              "    .dataframe tbody tr th {\n",
              "        vertical-align: top;\n",
              "    }\n",
              "\n",
              "    .dataframe thead th {\n",
              "        text-align: right;\n",
              "    }\n",
              "</style>\n",
              "<table border=\"1\" class=\"dataframe\">\n",
              "  <thead>\n",
              "    <tr style=\"text-align: right;\">\n",
              "      <th></th>\n",
              "      <th>Formatted Date</th>\n",
              "      <th>Summary</th>\n",
              "      <th>Precip Type</th>\n",
              "      <th>Temperature (C)</th>\n",
              "      <th>Apparent Temperature (C)</th>\n",
              "      <th>Humidity</th>\n",
              "      <th>Wind Speed (km/h)</th>\n",
              "      <th>Wind Bearing (degrees)</th>\n",
              "      <th>Visibility (km)</th>\n",
              "      <th>Loud Cover</th>\n",
              "      <th>Pressure (millibars)</th>\n",
              "      <th>Daily Summary</th>\n",
              "    </tr>\n",
              "  </thead>\n",
              "  <tbody>\n",
              "    <tr>\n",
              "      <th>0</th>\n",
              "      <td>2006-04-01 00:00:00.000 +0200</td>\n",
              "      <td>Partly Cloudy</td>\n",
              "      <td>rain</td>\n",
              "      <td>9.472222</td>\n",
              "      <td>7.388889</td>\n",
              "      <td>0.89</td>\n",
              "      <td>14.1197</td>\n",
              "      <td>251.0</td>\n",
              "      <td>15.8263</td>\n",
              "      <td>0.0</td>\n",
              "      <td>1015.13</td>\n",
              "      <td>Partly cloudy throughout the day.</td>\n",
              "    </tr>\n",
              "    <tr>\n",
              "      <th>1</th>\n",
              "      <td>2006-04-01 01:00:00.000 +0200</td>\n",
              "      <td>Partly Cloudy</td>\n",
              "      <td>rain</td>\n",
              "      <td>9.355556</td>\n",
              "      <td>7.227778</td>\n",
              "      <td>0.86</td>\n",
              "      <td>14.2646</td>\n",
              "      <td>259.0</td>\n",
              "      <td>15.8263</td>\n",
              "      <td>0.0</td>\n",
              "      <td>1015.63</td>\n",
              "      <td>Partly cloudy throughout the day.</td>\n",
              "    </tr>\n",
              "    <tr>\n",
              "      <th>2</th>\n",
              "      <td>2006-04-01 02:00:00.000 +0200</td>\n",
              "      <td>Mostly Cloudy</td>\n",
              "      <td>rain</td>\n",
              "      <td>9.377778</td>\n",
              "      <td>9.377778</td>\n",
              "      <td>0.89</td>\n",
              "      <td>3.9284</td>\n",
              "      <td>204.0</td>\n",
              "      <td>14.9569</td>\n",
              "      <td>0.0</td>\n",
              "      <td>1015.94</td>\n",
              "      <td>Partly cloudy throughout the day.</td>\n",
              "    </tr>\n",
              "    <tr>\n",
              "      <th>3</th>\n",
              "      <td>2006-04-01 03:00:00.000 +0200</td>\n",
              "      <td>Partly Cloudy</td>\n",
              "      <td>rain</td>\n",
              "      <td>8.288889</td>\n",
              "      <td>5.944444</td>\n",
              "      <td>0.83</td>\n",
              "      <td>14.1036</td>\n",
              "      <td>269.0</td>\n",
              "      <td>15.8263</td>\n",
              "      <td>0.0</td>\n",
              "      <td>1016.41</td>\n",
              "      <td>Partly cloudy throughout the day.</td>\n",
              "    </tr>\n",
              "    <tr>\n",
              "      <th>4</th>\n",
              "      <td>2006-04-01 04:00:00.000 +0200</td>\n",
              "      <td>Mostly Cloudy</td>\n",
              "      <td>rain</td>\n",
              "      <td>8.755556</td>\n",
              "      <td>6.977778</td>\n",
              "      <td>0.83</td>\n",
              "      <td>11.0446</td>\n",
              "      <td>259.0</td>\n",
              "      <td>15.8263</td>\n",
              "      <td>0.0</td>\n",
              "      <td>1016.51</td>\n",
              "      <td>Partly cloudy throughout the day.</td>\n",
              "    </tr>\n",
              "  </tbody>\n",
              "</table>\n",
              "</div>"
            ],
            "text/plain": [
              "                  Formatted Date  ...                      Daily Summary\n",
              "0  2006-04-01 00:00:00.000 +0200  ...  Partly cloudy throughout the day.\n",
              "1  2006-04-01 01:00:00.000 +0200  ...  Partly cloudy throughout the day.\n",
              "2  2006-04-01 02:00:00.000 +0200  ...  Partly cloudy throughout the day.\n",
              "3  2006-04-01 03:00:00.000 +0200  ...  Partly cloudy throughout the day.\n",
              "4  2006-04-01 04:00:00.000 +0200  ...  Partly cloudy throughout the day.\n",
              "\n",
              "[5 rows x 12 columns]"
            ]
          },
          "metadata": {
            "tags": []
          },
          "execution_count": 5
        }
      ]
    },
    {
      "cell_type": "code",
      "metadata": {
        "colab": {
          "base_uri": "https://localhost:8080/"
        },
        "id": "74xBV-1O8I9c",
        "outputId": "61dae76f-0c36-466e-c1ad-6a4c9709499e"
      },
      "source": [
        "weather_df['Precip Type'].value_counts()"
      ],
      "execution_count": 7,
      "outputs": [
        {
          "output_type": "execute_result",
          "data": {
            "text/plain": [
              "rain    85224\n",
              "snow    10712\n",
              "Name: Precip Type, dtype: int64"
            ]
          },
          "metadata": {
            "tags": []
          },
          "execution_count": 7
        }
      ]
    },
    {
      "cell_type": "code",
      "metadata": {
        "id": "UnTVo9BY8VCx"
      },
      "source": [
        "weather_df.loc[weather_df['Precip Type'].isnull(),'Precip Type']='rain'"
      ],
      "execution_count": 8,
      "outputs": []
    },
    {
      "cell_type": "code",
      "metadata": {
        "colab": {
          "base_uri": "https://localhost:8080/"
        },
        "id": "2jQEIcQs9APq",
        "outputId": "bb1bcd39-c02e-4257-dc4c-972006c4e692"
      },
      "source": [
        "round(100*(weather_df.isnull().sum()/len(weather_df.index)),2)"
      ],
      "execution_count": 9,
      "outputs": [
        {
          "output_type": "execute_result",
          "data": {
            "text/plain": [
              "Formatted Date              0.0\n",
              "Summary                     0.0\n",
              "Precip Type                 0.0\n",
              "Temperature (C)             0.0\n",
              "Apparent Temperature (C)    0.0\n",
              "Humidity                    0.0\n",
              "Wind Speed (km/h)           0.0\n",
              "Wind Bearing (degrees)      0.0\n",
              "Visibility (km)             0.0\n",
              "Loud Cover                  0.0\n",
              "Pressure (millibars)        0.0\n",
              "Daily Summary               0.0\n",
              "dtype: float64"
            ]
          },
          "metadata": {
            "tags": []
          },
          "execution_count": 9
        }
      ]
    },
    {
      "cell_type": "code",
      "metadata": {
        "id": "l--5o_FK9fiR"
      },
      "source": [
        "weather_df.loc[weather_df['Precip Type']=='rain','Precip Type'] = 1\r\n",
        "weather_df.loc[weather_df['Precip Type']=='snow','Precip Type'] = 0"
      ],
      "execution_count": 10,
      "outputs": []
    },
    {
      "cell_type": "code",
      "metadata": {
        "id": "AZOJjk7F_IX6"
      },
      "source": [
        "weather_df_num = weather_df[list(weather_df.dtypes[weather_df.dtypes!='object'].index)]"
      ],
      "execution_count": 11,
      "outputs": []
    },
    {
      "cell_type": "code",
      "metadata": {
        "id": "IQv3Qy3a__sw"
      },
      "source": [
        "weather_y = weather_df_num.pop('Temperature (C)')\r\n",
        "weather_x = weather_df_num"
      ],
      "execution_count": 14,
      "outputs": []
    },
    {
      "cell_type": "code",
      "metadata": {
        "id": "mrLE6KRcAaNI"
      },
      "source": [
        "train_x,test_x,train_y,test_y = train_test_split(weather_x,weather_y,test_size = 0.2,random_state=4)"
      ],
      "execution_count": 15,
      "outputs": []
    },
    {
      "cell_type": "code",
      "metadata": {
        "colab": {
          "base_uri": "https://localhost:8080/",
          "height": 195
        },
        "id": "MFZEtClrC800",
        "outputId": "35aac273-6926-4d13-e0f7-85c009819dff"
      },
      "source": [
        "train_x.head()"
      ],
      "execution_count": 16,
      "outputs": [
        {
          "output_type": "execute_result",
          "data": {
            "text/html": [
              "<div>\n",
              "<style scoped>\n",
              "    .dataframe tbody tr th:only-of-type {\n",
              "        vertical-align: middle;\n",
              "    }\n",
              "\n",
              "    .dataframe tbody tr th {\n",
              "        vertical-align: top;\n",
              "    }\n",
              "\n",
              "    .dataframe thead th {\n",
              "        text-align: right;\n",
              "    }\n",
              "</style>\n",
              "<table border=\"1\" class=\"dataframe\">\n",
              "  <thead>\n",
              "    <tr style=\"text-align: right;\">\n",
              "      <th></th>\n",
              "      <th>Apparent Temperature (C)</th>\n",
              "      <th>Humidity</th>\n",
              "      <th>Wind Speed (km/h)</th>\n",
              "      <th>Wind Bearing (degrees)</th>\n",
              "      <th>Visibility (km)</th>\n",
              "      <th>Loud Cover</th>\n",
              "      <th>Pressure (millibars)</th>\n",
              "    </tr>\n",
              "  </thead>\n",
              "  <tbody>\n",
              "    <tr>\n",
              "      <th>70626</th>\n",
              "      <td>21.061111</td>\n",
              "      <td>0.31</td>\n",
              "      <td>12.5580</td>\n",
              "      <td>110.0</td>\n",
              "      <td>16.1000</td>\n",
              "      <td>0.0</td>\n",
              "      <td>1005.87</td>\n",
              "    </tr>\n",
              "    <tr>\n",
              "      <th>52457</th>\n",
              "      <td>25.016667</td>\n",
              "      <td>0.36</td>\n",
              "      <td>18.4989</td>\n",
              "      <td>352.0</td>\n",
              "      <td>10.3523</td>\n",
              "      <td>0.0</td>\n",
              "      <td>1025.36</td>\n",
              "    </tr>\n",
              "    <tr>\n",
              "      <th>90690</th>\n",
              "      <td>0.738889</td>\n",
              "      <td>0.89</td>\n",
              "      <td>17.1304</td>\n",
              "      <td>270.0</td>\n",
              "      <td>15.8263</td>\n",
              "      <td>0.0</td>\n",
              "      <td>1014.75</td>\n",
              "    </tr>\n",
              "    <tr>\n",
              "      <th>69528</th>\n",
              "      <td>13.772222</td>\n",
              "      <td>0.78</td>\n",
              "      <td>14.4900</td>\n",
              "      <td>300.0</td>\n",
              "      <td>15.8263</td>\n",
              "      <td>0.0</td>\n",
              "      <td>1014.56</td>\n",
              "    </tr>\n",
              "    <tr>\n",
              "      <th>92419</th>\n",
              "      <td>23.288889</td>\n",
              "      <td>0.82</td>\n",
              "      <td>6.3917</td>\n",
              "      <td>357.0</td>\n",
              "      <td>16.1000</td>\n",
              "      <td>0.0</td>\n",
              "      <td>1022.05</td>\n",
              "    </tr>\n",
              "  </tbody>\n",
              "</table>\n",
              "</div>"
            ],
            "text/plain": [
              "       Apparent Temperature (C)  Humidity  ...  Loud Cover  Pressure (millibars)\n",
              "70626                 21.061111      0.31  ...         0.0               1005.87\n",
              "52457                 25.016667      0.36  ...         0.0               1025.36\n",
              "90690                  0.738889      0.89  ...         0.0               1014.75\n",
              "69528                 13.772222      0.78  ...         0.0               1014.56\n",
              "92419                 23.288889      0.82  ...         0.0               1022.05\n",
              "\n",
              "[5 rows x 7 columns]"
            ]
          },
          "metadata": {
            "tags": []
          },
          "execution_count": 16
        }
      ]
    },
    {
      "cell_type": "code",
      "metadata": {
        "colab": {
          "base_uri": "https://localhost:8080/"
        },
        "id": "ZK9EgkpODCA3",
        "outputId": "91d58887-3184-4bc2-848a-c99796b09b80"
      },
      "source": [
        "model = LinearRegression()\r\n",
        "model.fit(train_x,train_y)"
      ],
      "execution_count": 17,
      "outputs": [
        {
          "output_type": "execute_result",
          "data": {
            "text/plain": [
              "LinearRegression(copy_X=True, fit_intercept=True, n_jobs=None, normalize=False)"
            ]
          },
          "metadata": {
            "tags": []
          },
          "execution_count": 17
        }
      ]
    },
    {
      "cell_type": "code",
      "metadata": {
        "id": "wwBYKxY6DzzH"
      },
      "source": [
        "prediction = model.predict(test_x)"
      ],
      "execution_count": 18,
      "outputs": []
    },
    {
      "cell_type": "code",
      "metadata": {
        "colab": {
          "base_uri": "https://localhost:8080/"
        },
        "id": "5lOFO482EHAX",
        "outputId": "ddb926b9-24d1-4ad0-99fb-e9799d5fd487"
      },
      "source": [
        "np.mean((prediction-test_y)**2)"
      ],
      "execution_count": 19,
      "outputs": [
        {
          "output_type": "execute_result",
          "data": {
            "text/plain": [
              "0.902274371188337"
            ]
          },
          "metadata": {
            "tags": []
          },
          "execution_count": 19
        }
      ]
    },
    {
      "cell_type": "code",
      "metadata": {
        "colab": {
          "base_uri": "https://localhost:8080/",
          "height": 402
        },
        "id": "gWObxerSEaMQ",
        "outputId": "20133f97-c96f-41a6-c787-b42ad1b386b9"
      },
      "source": [
        "pd.DataFrame({'actual':test_y,\r\n",
        "              'prediction':prediction,\r\n",
        "              'diff':(test_y-prediction)})"
      ],
      "execution_count": 24,
      "outputs": [
        {
          "output_type": "execute_result",
          "data": {
            "text/html": [
              "<div>\n",
              "<style scoped>\n",
              "    .dataframe tbody tr th:only-of-type {\n",
              "        vertical-align: middle;\n",
              "    }\n",
              "\n",
              "    .dataframe tbody tr th {\n",
              "        vertical-align: top;\n",
              "    }\n",
              "\n",
              "    .dataframe thead th {\n",
              "        text-align: right;\n",
              "    }\n",
              "</style>\n",
              "<table border=\"1\" class=\"dataframe\">\n",
              "  <thead>\n",
              "    <tr style=\"text-align: right;\">\n",
              "      <th></th>\n",
              "      <th>actual</th>\n",
              "      <th>prediction</th>\n",
              "      <th>diff</th>\n",
              "    </tr>\n",
              "  </thead>\n",
              "  <tbody>\n",
              "    <tr>\n",
              "      <th>37443</th>\n",
              "      <td>-2.288889</td>\n",
              "      <td>-3.355714</td>\n",
              "      <td>1.066825</td>\n",
              "    </tr>\n",
              "    <tr>\n",
              "      <th>86534</th>\n",
              "      <td>8.861111</td>\n",
              "      <td>9.418530</td>\n",
              "      <td>-0.557419</td>\n",
              "    </tr>\n",
              "    <tr>\n",
              "      <th>2082</th>\n",
              "      <td>9.805556</td>\n",
              "      <td>9.701321</td>\n",
              "      <td>0.104235</td>\n",
              "    </tr>\n",
              "    <tr>\n",
              "      <th>53130</th>\n",
              "      <td>27.222222</td>\n",
              "      <td>27.096837</td>\n",
              "      <td>0.125385</td>\n",
              "    </tr>\n",
              "    <tr>\n",
              "      <th>45196</th>\n",
              "      <td>17.705556</td>\n",
              "      <td>17.302053</td>\n",
              "      <td>0.403503</td>\n",
              "    </tr>\n",
              "    <tr>\n",
              "      <th>...</th>\n",
              "      <td>...</td>\n",
              "      <td>...</td>\n",
              "      <td>...</td>\n",
              "    </tr>\n",
              "    <tr>\n",
              "      <th>55387</th>\n",
              "      <td>-10.066667</td>\n",
              "      <td>-11.960987</td>\n",
              "      <td>1.894320</td>\n",
              "    </tr>\n",
              "    <tr>\n",
              "      <th>25976</th>\n",
              "      <td>9.972222</td>\n",
              "      <td>9.831699</td>\n",
              "      <td>0.140523</td>\n",
              "    </tr>\n",
              "    <tr>\n",
              "      <th>32423</th>\n",
              "      <td>12.777778</td>\n",
              "      <td>15.436904</td>\n",
              "      <td>-2.659127</td>\n",
              "    </tr>\n",
              "    <tr>\n",
              "      <th>26570</th>\n",
              "      <td>15.277778</td>\n",
              "      <td>16.307788</td>\n",
              "      <td>-1.030010</td>\n",
              "    </tr>\n",
              "    <tr>\n",
              "      <th>45834</th>\n",
              "      <td>2.200000</td>\n",
              "      <td>3.666659</td>\n",
              "      <td>-1.466659</td>\n",
              "    </tr>\n",
              "  </tbody>\n",
              "</table>\n",
              "<p>19291 rows × 3 columns</p>\n",
              "</div>"
            ],
            "text/plain": [
              "          actual  prediction      diff\n",
              "37443  -2.288889   -3.355714  1.066825\n",
              "86534   8.861111    9.418530 -0.557419\n",
              "2082    9.805556    9.701321  0.104235\n",
              "53130  27.222222   27.096837  0.125385\n",
              "45196  17.705556   17.302053  0.403503\n",
              "...          ...         ...       ...\n",
              "55387 -10.066667  -11.960987  1.894320\n",
              "25976   9.972222    9.831699  0.140523\n",
              "32423  12.777778   15.436904 -2.659127\n",
              "26570  15.277778   16.307788 -1.030010\n",
              "45834   2.200000    3.666659 -1.466659\n",
              "\n",
              "[19291 rows x 3 columns]"
            ]
          },
          "metadata": {
            "tags": []
          },
          "execution_count": 24
        }
      ]
    },
    {
      "cell_type": "code",
      "metadata": {
        "colab": {
          "base_uri": "https://localhost:8080/"
        },
        "id": "DeRrmkQoE_nO",
        "outputId": "81f72784-9de4-4353-fbb8-f50445c5dc23"
      },
      "source": [
        "from sklearn.preprocessing import PolynomialFeatures\r\n",
        "\r\n",
        "poly = PolynomialFeatures(degree = 4)\r\n",
        "x_poly = poly.fit_transform(train_x)\r\n",
        "\r\n",
        "poly.fit(x_poly, train_y)\r\n",
        "lin2 = LinearRegression()\r\n",
        "lin2.fit(x_poly, train_y)"
      ],
      "execution_count": 40,
      "outputs": [
        {
          "output_type": "execute_result",
          "data": {
            "text/plain": [
              "LinearRegression(copy_X=True, fit_intercept=True, n_jobs=None, normalize=False)"
            ]
          },
          "metadata": {
            "tags": []
          },
          "execution_count": 40
        }
      ]
    },
    {
      "cell_type": "code",
      "metadata": {
        "colab": {
          "base_uri": "https://localhost:8080/"
        },
        "id": "Pq7tB224GGAP",
        "outputId": "24747c02-76c4-4366-c0cc-e478ddbace28"
      },
      "source": [
        "prediction2 = lin2.predict(poly.fit_transform(test_x))\r\n",
        "np.mean((prediction2-test_y)**2)"
      ],
      "execution_count": 41,
      "outputs": [
        {
          "output_type": "execute_result",
          "data": {
            "text/plain": [
              "0.14602317508410093"
            ]
          },
          "metadata": {
            "tags": []
          },
          "execution_count": 41
        }
      ]
    },
    {
      "cell_type": "code",
      "metadata": {
        "colab": {
          "base_uri": "https://localhost:8080/",
          "height": 402
        },
        "id": "75JeHitKG4aA",
        "outputId": "b5767523-a164-4dbf-c472-055154e5418d"
      },
      "source": [
        "pd.DataFrame({'actual':test_y,\r\n",
        "              'prediction':prediction2,\r\n",
        "              'diff':(test_y-prediction2)})"
      ],
      "execution_count": 42,
      "outputs": [
        {
          "output_type": "execute_result",
          "data": {
            "text/html": [
              "<div>\n",
              "<style scoped>\n",
              "    .dataframe tbody tr th:only-of-type {\n",
              "        vertical-align: middle;\n",
              "    }\n",
              "\n",
              "    .dataframe tbody tr th {\n",
              "        vertical-align: top;\n",
              "    }\n",
              "\n",
              "    .dataframe thead th {\n",
              "        text-align: right;\n",
              "    }\n",
              "</style>\n",
              "<table border=\"1\" class=\"dataframe\">\n",
              "  <thead>\n",
              "    <tr style=\"text-align: right;\">\n",
              "      <th></th>\n",
              "      <th>actual</th>\n",
              "      <th>prediction</th>\n",
              "      <th>diff</th>\n",
              "    </tr>\n",
              "  </thead>\n",
              "  <tbody>\n",
              "    <tr>\n",
              "      <th>37443</th>\n",
              "      <td>-2.288889</td>\n",
              "      <td>-2.188155</td>\n",
              "      <td>-0.100734</td>\n",
              "    </tr>\n",
              "    <tr>\n",
              "      <th>86534</th>\n",
              "      <td>8.861111</td>\n",
              "      <td>9.113336</td>\n",
              "      <td>-0.252225</td>\n",
              "    </tr>\n",
              "    <tr>\n",
              "      <th>2082</th>\n",
              "      <td>9.805556</td>\n",
              "      <td>9.602271</td>\n",
              "      <td>0.203285</td>\n",
              "    </tr>\n",
              "    <tr>\n",
              "      <th>53130</th>\n",
              "      <td>27.222222</td>\n",
              "      <td>27.130414</td>\n",
              "      <td>0.091808</td>\n",
              "    </tr>\n",
              "    <tr>\n",
              "      <th>45196</th>\n",
              "      <td>17.705556</td>\n",
              "      <td>17.770751</td>\n",
              "      <td>-0.065196</td>\n",
              "    </tr>\n",
              "    <tr>\n",
              "      <th>...</th>\n",
              "      <td>...</td>\n",
              "      <td>...</td>\n",
              "      <td>...</td>\n",
              "    </tr>\n",
              "    <tr>\n",
              "      <th>55387</th>\n",
              "      <td>-10.066667</td>\n",
              "      <td>-10.172420</td>\n",
              "      <td>0.105753</td>\n",
              "    </tr>\n",
              "    <tr>\n",
              "      <th>25976</th>\n",
              "      <td>9.972222</td>\n",
              "      <td>9.773758</td>\n",
              "      <td>0.198464</td>\n",
              "    </tr>\n",
              "    <tr>\n",
              "      <th>32423</th>\n",
              "      <td>12.777778</td>\n",
              "      <td>13.294539</td>\n",
              "      <td>-0.516761</td>\n",
              "    </tr>\n",
              "    <tr>\n",
              "      <th>26570</th>\n",
              "      <td>15.277778</td>\n",
              "      <td>15.414607</td>\n",
              "      <td>-0.136829</td>\n",
              "    </tr>\n",
              "    <tr>\n",
              "      <th>45834</th>\n",
              "      <td>2.200000</td>\n",
              "      <td>2.957100</td>\n",
              "      <td>-0.757100</td>\n",
              "    </tr>\n",
              "  </tbody>\n",
              "</table>\n",
              "<p>19291 rows × 3 columns</p>\n",
              "</div>"
            ],
            "text/plain": [
              "          actual  prediction      diff\n",
              "37443  -2.288889   -2.188155 -0.100734\n",
              "86534   8.861111    9.113336 -0.252225\n",
              "2082    9.805556    9.602271  0.203285\n",
              "53130  27.222222   27.130414  0.091808\n",
              "45196  17.705556   17.770751 -0.065196\n",
              "...          ...         ...       ...\n",
              "55387 -10.066667  -10.172420  0.105753\n",
              "25976   9.972222    9.773758  0.198464\n",
              "32423  12.777778   13.294539 -0.516761\n",
              "26570  15.277778   15.414607 -0.136829\n",
              "45834   2.200000    2.957100 -0.757100\n",
              "\n",
              "[19291 rows x 3 columns]"
            ]
          },
          "metadata": {
            "tags": []
          },
          "execution_count": 42
        }
      ]
    },
    {
      "cell_type": "code",
      "metadata": {
        "colab": {
          "base_uri": "https://localhost:8080/"
        },
        "id": "C4vPEDIsHFed",
        "outputId": "1a111334-1c2e-4170-f3e8-b61f59b370ea"
      },
      "source": [
        "from sklearn.tree import DecisionTreeRegressor\r\n",
        "regressor = DecisionTreeRegressor(random_state = 0)\r\n",
        "regressor.fit(train_x,train_y)"
      ],
      "execution_count": 43,
      "outputs": [
        {
          "output_type": "execute_result",
          "data": {
            "text/plain": [
              "DecisionTreeRegressor(ccp_alpha=0.0, criterion='mse', max_depth=None,\n",
              "                      max_features=None, max_leaf_nodes=None,\n",
              "                      min_impurity_decrease=0.0, min_impurity_split=None,\n",
              "                      min_samples_leaf=1, min_samples_split=2,\n",
              "                      min_weight_fraction_leaf=0.0, presort='deprecated',\n",
              "                      random_state=0, splitter='best')"
            ]
          },
          "metadata": {
            "tags": []
          },
          "execution_count": 43
        }
      ]
    },
    {
      "cell_type": "code",
      "metadata": {
        "colab": {
          "base_uri": "https://localhost:8080/"
        },
        "id": "XgG8p9EfKPkO",
        "outputId": "9e891441-d91f-428e-afe0-12ae2d4744e7"
      },
      "source": [
        "prediction3 = regressor.predict(test_x)\r\n",
        "np.mean((prediction3-test_y)**2)"
      ],
      "execution_count": 45,
      "outputs": [
        {
          "output_type": "execute_result",
          "data": {
            "text/plain": [
              "0.006723574480775507"
            ]
          },
          "metadata": {
            "tags": []
          },
          "execution_count": 45
        }
      ]
    },
    {
      "cell_type": "code",
      "metadata": {
        "colab": {
          "base_uri": "https://localhost:8080/",
          "height": 402
        },
        "id": "VXJXBR7qKeoV",
        "outputId": "a45aa03a-5677-4bd1-cd73-6f4081872003"
      },
      "source": [
        "pd.DataFrame({'actual':test_y,\r\n",
        "              'prediction':prediction3,\r\n",
        "              'diff':(test_y-prediction3)})"
      ],
      "execution_count": 46,
      "outputs": [
        {
          "output_type": "execute_result",
          "data": {
            "text/html": [
              "<div>\n",
              "<style scoped>\n",
              "    .dataframe tbody tr th:only-of-type {\n",
              "        vertical-align: middle;\n",
              "    }\n",
              "\n",
              "    .dataframe tbody tr th {\n",
              "        vertical-align: top;\n",
              "    }\n",
              "\n",
              "    .dataframe thead th {\n",
              "        text-align: right;\n",
              "    }\n",
              "</style>\n",
              "<table border=\"1\" class=\"dataframe\">\n",
              "  <thead>\n",
              "    <tr style=\"text-align: right;\">\n",
              "      <th></th>\n",
              "      <th>actual</th>\n",
              "      <th>prediction</th>\n",
              "      <th>diff</th>\n",
              "    </tr>\n",
              "  </thead>\n",
              "  <tbody>\n",
              "    <tr>\n",
              "      <th>37443</th>\n",
              "      <td>-2.288889</td>\n",
              "      <td>-2.272222</td>\n",
              "      <td>-1.666667e-02</td>\n",
              "    </tr>\n",
              "    <tr>\n",
              "      <th>86534</th>\n",
              "      <td>8.861111</td>\n",
              "      <td>8.855556</td>\n",
              "      <td>5.555556e-03</td>\n",
              "    </tr>\n",
              "    <tr>\n",
              "      <th>2082</th>\n",
              "      <td>9.805556</td>\n",
              "      <td>9.788889</td>\n",
              "      <td>1.666667e-02</td>\n",
              "    </tr>\n",
              "    <tr>\n",
              "      <th>53130</th>\n",
              "      <td>27.222222</td>\n",
              "      <td>27.222222</td>\n",
              "      <td>-3.552714e-15</td>\n",
              "    </tr>\n",
              "    <tr>\n",
              "      <th>45196</th>\n",
              "      <td>17.705556</td>\n",
              "      <td>17.705556</td>\n",
              "      <td>-7.105427e-15</td>\n",
              "    </tr>\n",
              "    <tr>\n",
              "      <th>...</th>\n",
              "      <td>...</td>\n",
              "      <td>...</td>\n",
              "      <td>...</td>\n",
              "    </tr>\n",
              "    <tr>\n",
              "      <th>55387</th>\n",
              "      <td>-10.066667</td>\n",
              "      <td>-10.000000</td>\n",
              "      <td>-6.666667e-02</td>\n",
              "    </tr>\n",
              "    <tr>\n",
              "      <th>25976</th>\n",
              "      <td>9.972222</td>\n",
              "      <td>9.972222</td>\n",
              "      <td>0.000000e+00</td>\n",
              "    </tr>\n",
              "    <tr>\n",
              "      <th>32423</th>\n",
              "      <td>12.777778</td>\n",
              "      <td>12.777778</td>\n",
              "      <td>-4.263256e-14</td>\n",
              "    </tr>\n",
              "    <tr>\n",
              "      <th>26570</th>\n",
              "      <td>15.277778</td>\n",
              "      <td>15.277778</td>\n",
              "      <td>3.552714e-15</td>\n",
              "    </tr>\n",
              "    <tr>\n",
              "      <th>45834</th>\n",
              "      <td>2.200000</td>\n",
              "      <td>2.200000</td>\n",
              "      <td>4.440892e-16</td>\n",
              "    </tr>\n",
              "  </tbody>\n",
              "</table>\n",
              "<p>19291 rows × 3 columns</p>\n",
              "</div>"
            ],
            "text/plain": [
              "          actual  prediction          diff\n",
              "37443  -2.288889   -2.272222 -1.666667e-02\n",
              "86534   8.861111    8.855556  5.555556e-03\n",
              "2082    9.805556    9.788889  1.666667e-02\n",
              "53130  27.222222   27.222222 -3.552714e-15\n",
              "45196  17.705556   17.705556 -7.105427e-15\n",
              "...          ...         ...           ...\n",
              "55387 -10.066667  -10.000000 -6.666667e-02\n",
              "25976   9.972222    9.972222  0.000000e+00\n",
              "32423  12.777778   12.777778 -4.263256e-14\n",
              "26570  15.277778   15.277778  3.552714e-15\n",
              "45834   2.200000    2.200000  4.440892e-16\n",
              "\n",
              "[19291 rows x 3 columns]"
            ]
          },
          "metadata": {
            "tags": []
          },
          "execution_count": 46
        }
      ]
    },
    {
      "cell_type": "code",
      "metadata": {
        "id": "qvZ911O0Kt1l",
        "outputId": "ba5a7594-6822-4621-e3ab-8ae91777ac2f",
        "colab": {
          "base_uri": "https://localhost:8080/"
        }
      },
      "source": [
        "from sklearn.ensemble import RandomForestRegressor\r\n",
        "regr = RandomForestRegressor(max_depth = 10 , random_state = 0 , n_estimators = 100)\r\n",
        "regr.fit(train_x,train_y)"
      ],
      "execution_count": 47,
      "outputs": [
        {
          "output_type": "execute_result",
          "data": {
            "text/plain": [
              "RandomForestRegressor(bootstrap=True, ccp_alpha=0.0, criterion='mse',\n",
              "                      max_depth=10, max_features='auto', max_leaf_nodes=None,\n",
              "                      max_samples=None, min_impurity_decrease=0.0,\n",
              "                      min_impurity_split=None, min_samples_leaf=1,\n",
              "                      min_samples_split=2, min_weight_fraction_leaf=0.0,\n",
              "                      n_estimators=100, n_jobs=None, oob_score=False,\n",
              "                      random_state=0, verbose=0, warm_start=False)"
            ]
          },
          "metadata": {
            "tags": []
          },
          "execution_count": 47
        }
      ]
    },
    {
      "cell_type": "code",
      "metadata": {
        "id": "CyvH8YEZLj-l",
        "outputId": "2515e4fc-0cc5-4099-ca5a-e3459c4e32a8",
        "colab": {
          "base_uri": "https://localhost:8080/"
        }
      },
      "source": [
        "prediction4 = regr.predict(test_x)\r\n",
        "np.mean((prediction4 - test_y)**2)"
      ],
      "execution_count": 49,
      "outputs": [
        {
          "output_type": "execute_result",
          "data": {
            "text/plain": [
              "0.0071767589236793015"
            ]
          },
          "metadata": {
            "tags": []
          },
          "execution_count": 49
        }
      ]
    },
    {
      "cell_type": "code",
      "metadata": {
        "id": "WRCbx_G0L_zM",
        "outputId": "b24d5d3a-ea2f-4440-a8ab-eb8b954a7d8a",
        "colab": {
          "base_uri": "https://localhost:8080/",
          "height": 402
        }
      },
      "source": [
        "pd.DataFrame({'actual':test_y,\r\n",
        "              'prediction':prediction4,\r\n",
        "              'diff':(test_y-prediction4)})"
      ],
      "execution_count": 50,
      "outputs": [
        {
          "output_type": "execute_result",
          "data": {
            "text/html": [
              "<div>\n",
              "<style scoped>\n",
              "    .dataframe tbody tr th:only-of-type {\n",
              "        vertical-align: middle;\n",
              "    }\n",
              "\n",
              "    .dataframe tbody tr th {\n",
              "        vertical-align: top;\n",
              "    }\n",
              "\n",
              "    .dataframe thead th {\n",
              "        text-align: right;\n",
              "    }\n",
              "</style>\n",
              "<table border=\"1\" class=\"dataframe\">\n",
              "  <thead>\n",
              "    <tr style=\"text-align: right;\">\n",
              "      <th></th>\n",
              "      <th>actual</th>\n",
              "      <th>prediction</th>\n",
              "      <th>diff</th>\n",
              "    </tr>\n",
              "  </thead>\n",
              "  <tbody>\n",
              "    <tr>\n",
              "      <th>37443</th>\n",
              "      <td>-2.288889</td>\n",
              "      <td>-2.366102</td>\n",
              "      <td>0.077213</td>\n",
              "    </tr>\n",
              "    <tr>\n",
              "      <th>86534</th>\n",
              "      <td>8.861111</td>\n",
              "      <td>8.892260</td>\n",
              "      <td>-0.031149</td>\n",
              "    </tr>\n",
              "    <tr>\n",
              "      <th>2082</th>\n",
              "      <td>9.805556</td>\n",
              "      <td>9.847246</td>\n",
              "      <td>-0.041690</td>\n",
              "    </tr>\n",
              "    <tr>\n",
              "      <th>53130</th>\n",
              "      <td>27.222222</td>\n",
              "      <td>27.202118</td>\n",
              "      <td>0.020104</td>\n",
              "    </tr>\n",
              "    <tr>\n",
              "      <th>45196</th>\n",
              "      <td>17.705556</td>\n",
              "      <td>17.713716</td>\n",
              "      <td>-0.008160</td>\n",
              "    </tr>\n",
              "    <tr>\n",
              "      <th>...</th>\n",
              "      <td>...</td>\n",
              "      <td>...</td>\n",
              "      <td>...</td>\n",
              "    </tr>\n",
              "    <tr>\n",
              "      <th>55387</th>\n",
              "      <td>-10.066667</td>\n",
              "      <td>-10.100922</td>\n",
              "      <td>0.034255</td>\n",
              "    </tr>\n",
              "    <tr>\n",
              "      <th>25976</th>\n",
              "      <td>9.972222</td>\n",
              "      <td>9.913953</td>\n",
              "      <td>0.058269</td>\n",
              "    </tr>\n",
              "    <tr>\n",
              "      <th>32423</th>\n",
              "      <td>12.777778</td>\n",
              "      <td>12.781718</td>\n",
              "      <td>-0.003940</td>\n",
              "    </tr>\n",
              "    <tr>\n",
              "      <th>26570</th>\n",
              "      <td>15.277778</td>\n",
              "      <td>15.275648</td>\n",
              "      <td>0.002130</td>\n",
              "    </tr>\n",
              "    <tr>\n",
              "      <th>45834</th>\n",
              "      <td>2.200000</td>\n",
              "      <td>2.187450</td>\n",
              "      <td>0.012550</td>\n",
              "    </tr>\n",
              "  </tbody>\n",
              "</table>\n",
              "<p>19291 rows × 3 columns</p>\n",
              "</div>"
            ],
            "text/plain": [
              "          actual  prediction      diff\n",
              "37443  -2.288889   -2.366102  0.077213\n",
              "86534   8.861111    8.892260 -0.031149\n",
              "2082    9.805556    9.847246 -0.041690\n",
              "53130  27.222222   27.202118  0.020104\n",
              "45196  17.705556   17.713716 -0.008160\n",
              "...          ...         ...       ...\n",
              "55387 -10.066667  -10.100922  0.034255\n",
              "25976   9.972222    9.913953  0.058269\n",
              "32423  12.777778   12.781718 -0.003940\n",
              "26570  15.277778   15.275648  0.002130\n",
              "45834   2.200000    2.187450  0.012550\n",
              "\n",
              "[19291 rows x 3 columns]"
            ]
          },
          "metadata": {
            "tags": []
          },
          "execution_count": 50
        }
      ]
    },
    {
      "cell_type": "code",
      "metadata": {
        "id": "gYlNmmwgMIn1",
        "outputId": "19be9d85-85d4-4562-ac60-2101fbf2a1c0",
        "colab": {
          "base_uri": "https://localhost:8080/"
        }
      },
      "source": [
        "from sklearn.ensemble import RandomForestRegressor\r\n",
        "regr1 = RandomForestRegressor(max_depth = 50 , random_state = 0 , n_estimators = 100)\r\n",
        "regr1.fit(train_x,train_y)"
      ],
      "execution_count": 52,
      "outputs": [
        {
          "output_type": "execute_result",
          "data": {
            "text/plain": [
              "RandomForestRegressor(bootstrap=True, ccp_alpha=0.0, criterion='mse',\n",
              "                      max_depth=50, max_features='auto', max_leaf_nodes=None,\n",
              "                      max_samples=None, min_impurity_decrease=0.0,\n",
              "                      min_impurity_split=None, min_samples_leaf=1,\n",
              "                      min_samples_split=2, min_weight_fraction_leaf=0.0,\n",
              "                      n_estimators=100, n_jobs=None, oob_score=False,\n",
              "                      random_state=0, verbose=0, warm_start=False)"
            ]
          },
          "metadata": {
            "tags": []
          },
          "execution_count": 52
        }
      ]
    },
    {
      "cell_type": "code",
      "metadata": {
        "id": "T_s-q_3xMdL0",
        "outputId": "93a84dda-f400-404d-e490-22327feaff9e",
        "colab": {
          "base_uri": "https://localhost:8080/"
        }
      },
      "source": [
        "prediction5 = regr1.predict(test_x)\r\n",
        "np.mean((prediction5 - test_y)**2)"
      ],
      "execution_count": 53,
      "outputs": [
        {
          "output_type": "execute_result",
          "data": {
            "text/plain": [
              "0.001618068523446305"
            ]
          },
          "metadata": {
            "tags": []
          },
          "execution_count": 53
        }
      ]
    },
    {
      "cell_type": "code",
      "metadata": {
        "id": "Xs-7bixDM4Dt",
        "outputId": "be9c17a0-5fef-426f-8c27-b4630f38738c",
        "colab": {
          "base_uri": "https://localhost:8080/",
          "height": 402
        }
      },
      "source": [
        "pd.DataFrame({'actual':test_y,\r\n",
        "              'prediction':prediction4,\r\n",
        "              'diff':(test_y-prediction4)})"
      ],
      "execution_count": 54,
      "outputs": [
        {
          "output_type": "execute_result",
          "data": {
            "text/html": [
              "<div>\n",
              "<style scoped>\n",
              "    .dataframe tbody tr th:only-of-type {\n",
              "        vertical-align: middle;\n",
              "    }\n",
              "\n",
              "    .dataframe tbody tr th {\n",
              "        vertical-align: top;\n",
              "    }\n",
              "\n",
              "    .dataframe thead th {\n",
              "        text-align: right;\n",
              "    }\n",
              "</style>\n",
              "<table border=\"1\" class=\"dataframe\">\n",
              "  <thead>\n",
              "    <tr style=\"text-align: right;\">\n",
              "      <th></th>\n",
              "      <th>actual</th>\n",
              "      <th>prediction</th>\n",
              "      <th>diff</th>\n",
              "    </tr>\n",
              "  </thead>\n",
              "  <tbody>\n",
              "    <tr>\n",
              "      <th>37443</th>\n",
              "      <td>-2.288889</td>\n",
              "      <td>-2.366102</td>\n",
              "      <td>0.077213</td>\n",
              "    </tr>\n",
              "    <tr>\n",
              "      <th>86534</th>\n",
              "      <td>8.861111</td>\n",
              "      <td>8.892260</td>\n",
              "      <td>-0.031149</td>\n",
              "    </tr>\n",
              "    <tr>\n",
              "      <th>2082</th>\n",
              "      <td>9.805556</td>\n",
              "      <td>9.847246</td>\n",
              "      <td>-0.041690</td>\n",
              "    </tr>\n",
              "    <tr>\n",
              "      <th>53130</th>\n",
              "      <td>27.222222</td>\n",
              "      <td>27.202118</td>\n",
              "      <td>0.020104</td>\n",
              "    </tr>\n",
              "    <tr>\n",
              "      <th>45196</th>\n",
              "      <td>17.705556</td>\n",
              "      <td>17.713716</td>\n",
              "      <td>-0.008160</td>\n",
              "    </tr>\n",
              "    <tr>\n",
              "      <th>...</th>\n",
              "      <td>...</td>\n",
              "      <td>...</td>\n",
              "      <td>...</td>\n",
              "    </tr>\n",
              "    <tr>\n",
              "      <th>55387</th>\n",
              "      <td>-10.066667</td>\n",
              "      <td>-10.100922</td>\n",
              "      <td>0.034255</td>\n",
              "    </tr>\n",
              "    <tr>\n",
              "      <th>25976</th>\n",
              "      <td>9.972222</td>\n",
              "      <td>9.913953</td>\n",
              "      <td>0.058269</td>\n",
              "    </tr>\n",
              "    <tr>\n",
              "      <th>32423</th>\n",
              "      <td>12.777778</td>\n",
              "      <td>12.781718</td>\n",
              "      <td>-0.003940</td>\n",
              "    </tr>\n",
              "    <tr>\n",
              "      <th>26570</th>\n",
              "      <td>15.277778</td>\n",
              "      <td>15.275648</td>\n",
              "      <td>0.002130</td>\n",
              "    </tr>\n",
              "    <tr>\n",
              "      <th>45834</th>\n",
              "      <td>2.200000</td>\n",
              "      <td>2.187450</td>\n",
              "      <td>0.012550</td>\n",
              "    </tr>\n",
              "  </tbody>\n",
              "</table>\n",
              "<p>19291 rows × 3 columns</p>\n",
              "</div>"
            ],
            "text/plain": [
              "          actual  prediction      diff\n",
              "37443  -2.288889   -2.366102  0.077213\n",
              "86534   8.861111    8.892260 -0.031149\n",
              "2082    9.805556    9.847246 -0.041690\n",
              "53130  27.222222   27.202118  0.020104\n",
              "45196  17.705556   17.713716 -0.008160\n",
              "...          ...         ...       ...\n",
              "55387 -10.066667  -10.100922  0.034255\n",
              "25976   9.972222    9.913953  0.058269\n",
              "32423  12.777778   12.781718 -0.003940\n",
              "26570  15.277778   15.275648  0.002130\n",
              "45834   2.200000    2.187450  0.012550\n",
              "\n",
              "[19291 rows x 3 columns]"
            ]
          },
          "metadata": {
            "tags": []
          },
          "execution_count": 54
        }
      ]
    },
    {
      "cell_type": "code",
      "metadata": {
        "id": "a5dJlJ4jM7gc"
      },
      "source": [
        ""
      ],
      "execution_count": null,
      "outputs": []
    }
  ]
}